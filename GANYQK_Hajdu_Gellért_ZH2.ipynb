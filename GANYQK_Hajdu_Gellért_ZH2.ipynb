{
    "metadata": {
        "kernelspec": {
            "name": "SQL",
            "display_name": "SQL",
            "language": "sql"
        },
        "language_info": {
            "name": "sql",
            "version": ""
        }
    },
    "nbformat_minor": 2,
    "nbformat": 4,
    "cells": [
        {
            "cell_type": "code",
            "source": [
                "SELECT szob.SZOBA_ID, COUNT(f.FOGLALAS_PK) AS 'foglalasok szama', \r\n",
                "SUM(COUNT(FOGLALAS_PK)) OVER () as 'összes foglalás száma'\r\n",
                "from Szoba szob JOIN Foglalas f ON szob.SZOBA_ID = f.SZOBA_FK\r\n",
                "WHERE f.FELNOTT_SZAM > f.GYERMEK_SZAM\r\n",
                "GROUP BY szob.SZOBA_ID"
            ],
            "metadata": {
                "azdata_cell_guid": "fda1f744-992e-4460-a5cd-29f6339a4984",
                "language": "sql"
            },
            "outputs": [
                {
                    "output_type": "display_data",
                    "data": {
                        "text/html": "(189 rows affected)"
                    },
                    "metadata": {}
                },
                {
                    "output_type": "display_data",
                    "data": {
                        "text/html": "Total execution time: 00:00:00.061"
                    },
                    "metadata": {}
                },
                {
                    "output_type": "execute_result",
                    "metadata": {},
                    "execution_count": 21,
                    "data": {
                        "application/vnd.dataresource+json": {
                            "schema": {
                                "fields": [
                                    {
                                        "name": "SZOBA_ID"
                                    },
                                    {
                                        "name": "foglalasok szama"
                                    },
                                    {
                                        "name": "összes foglalás száma"
                                    }
                                ]
                            },
                            "data": [
                                {
                                    "SZOBA_ID": "1",
                                    "foglalasok szama": "7",
                                    "összes foglalás száma": "668"
                                },
                                {
                                    "SZOBA_ID": "2",
                                    "foglalasok szama": "2",
                                    "összes foglalás száma": "668"
                                },
                                {
                                    "SZOBA_ID": "3",
                                    "foglalasok szama": "3",
                                    "összes foglalás száma": "668"
                                },
                                {
                                    "SZOBA_ID": "4",
                                    "foglalasok szama": "5",
                                    "összes foglalás száma": "668"
                                },
                                {
                                    "SZOBA_ID": "5",
                                    "foglalasok szama": "2",
                                    "összes foglalás száma": "668"
                                },
                                {
                                    "SZOBA_ID": "6",
                                    "foglalasok szama": "5",
                                    "összes foglalás száma": "668"
                                },
                                {
                                    "SZOBA_ID": "7",
                                    "foglalasok szama": "6",
                                    "összes foglalás száma": "668"
                                },
                                {
                                    "SZOBA_ID": "8",
                                    "foglalasok szama": "5",
                                    "összes foglalás száma": "668"
                                },
                                {
                                    "SZOBA_ID": "9",
                                    "foglalasok szama": "4",
                                    "összes foglalás száma": "668"
                                },
                                {
                                    "SZOBA_ID": "10",
                                    "foglalasok szama": "4",
                                    "összes foglalás száma": "668"
                                },
                                {
                                    "SZOBA_ID": "11",
                                    "foglalasok szama": "4",
                                    "összes foglalás száma": "668"
                                },
                                {
                                    "SZOBA_ID": "12",
                                    "foglalasok szama": "7",
                                    "összes foglalás száma": "668"
                                },
                                {
                                    "SZOBA_ID": "13",
                                    "foglalasok szama": "4",
                                    "összes foglalás száma": "668"
                                },
                                {
                                    "SZOBA_ID": "14",
                                    "foglalasok szama": "3",
                                    "összes foglalás száma": "668"
                                },
                                {
                                    "SZOBA_ID": "15",
                                    "foglalasok szama": "4",
                                    "összes foglalás száma": "668"
                                },
                                {
                                    "SZOBA_ID": "16",
                                    "foglalasok szama": "1",
                                    "összes foglalás száma": "668"
                                },
                                {
                                    "SZOBA_ID": "17",
                                    "foglalasok szama": "2",
                                    "összes foglalás száma": "668"
                                },
                                {
                                    "SZOBA_ID": "18",
                                    "foglalasok szama": "3",
                                    "összes foglalás száma": "668"
                                },
                                {
                                    "SZOBA_ID": "19",
                                    "foglalasok szama": "4",
                                    "összes foglalás száma": "668"
                                },
                                {
                                    "SZOBA_ID": "20",
                                    "foglalasok szama": "5",
                                    "összes foglalás száma": "668"
                                },
                                {
                                    "SZOBA_ID": "21",
                                    "foglalasok szama": "1",
                                    "összes foglalás száma": "668"
                                },
                                {
                                    "SZOBA_ID": "22",
                                    "foglalasok szama": "2",
                                    "összes foglalás száma": "668"
                                },
                                {
                                    "SZOBA_ID": "23",
                                    "foglalasok szama": "3",
                                    "összes foglalás száma": "668"
                                },
                                {
                                    "SZOBA_ID": "24",
                                    "foglalasok szama": "3",
                                    "összes foglalás száma": "668"
                                },
                                {
                                    "SZOBA_ID": "25",
                                    "foglalasok szama": "1",
                                    "összes foglalás száma": "668"
                                },
                                {
                                    "SZOBA_ID": "27",
                                    "foglalasok szama": "5",
                                    "összes foglalás száma": "668"
                                },
                                {
                                    "SZOBA_ID": "28",
                                    "foglalasok szama": "5",
                                    "összes foglalás száma": "668"
                                },
                                {
                                    "SZOBA_ID": "29",
                                    "foglalasok szama": "3",
                                    "összes foglalás száma": "668"
                                },
                                {
                                    "SZOBA_ID": "30",
                                    "foglalasok szama": "2",
                                    "összes foglalás száma": "668"
                                },
                                {
                                    "SZOBA_ID": "31",
                                    "foglalasok szama": "1",
                                    "összes foglalás száma": "668"
                                },
                                {
                                    "SZOBA_ID": "32",
                                    "foglalasok szama": "1",
                                    "összes foglalás száma": "668"
                                },
                                {
                                    "SZOBA_ID": "33",
                                    "foglalasok szama": "3",
                                    "összes foglalás száma": "668"
                                },
                                {
                                    "SZOBA_ID": "34",
                                    "foglalasok szama": "3",
                                    "összes foglalás száma": "668"
                                },
                                {
                                    "SZOBA_ID": "35",
                                    "foglalasok szama": "6",
                                    "összes foglalás száma": "668"
                                },
                                {
                                    "SZOBA_ID": "36",
                                    "foglalasok szama": "4",
                                    "összes foglalás száma": "668"
                                },
                                {
                                    "SZOBA_ID": "37",
                                    "foglalasok szama": "2",
                                    "összes foglalás száma": "668"
                                },
                                {
                                    "SZOBA_ID": "38",
                                    "foglalasok szama": "5",
                                    "összes foglalás száma": "668"
                                },
                                {
                                    "SZOBA_ID": "39",
                                    "foglalasok szama": "4",
                                    "összes foglalás száma": "668"
                                },
                                {
                                    "SZOBA_ID": "40",
                                    "foglalasok szama": "3",
                                    "összes foglalás száma": "668"
                                },
                                {
                                    "SZOBA_ID": "41",
                                    "foglalasok szama": "1",
                                    "összes foglalás száma": "668"
                                },
                                {
                                    "SZOBA_ID": "42",
                                    "foglalasok szama": "5",
                                    "összes foglalás száma": "668"
                                },
                                {
                                    "SZOBA_ID": "43",
                                    "foglalasok szama": "4",
                                    "összes foglalás száma": "668"
                                },
                                {
                                    "SZOBA_ID": "44",
                                    "foglalasok szama": "6",
                                    "összes foglalás száma": "668"
                                },
                                {
                                    "SZOBA_ID": "45",
                                    "foglalasok szama": "4",
                                    "összes foglalás száma": "668"
                                },
                                {
                                    "SZOBA_ID": "46",
                                    "foglalasok szama": "3",
                                    "összes foglalás száma": "668"
                                },
                                {
                                    "SZOBA_ID": "47",
                                    "foglalasok szama": "2",
                                    "összes foglalás száma": "668"
                                },
                                {
                                    "SZOBA_ID": "48",
                                    "foglalasok szama": "6",
                                    "összes foglalás száma": "668"
                                },
                                {
                                    "SZOBA_ID": "49",
                                    "foglalasok szama": "5",
                                    "összes foglalás száma": "668"
                                },
                                {
                                    "SZOBA_ID": "50",
                                    "foglalasok szama": "3",
                                    "összes foglalás száma": "668"
                                },
                                {
                                    "SZOBA_ID": "51",
                                    "foglalasok szama": "3",
                                    "összes foglalás száma": "668"
                                },
                                {
                                    "SZOBA_ID": "52",
                                    "foglalasok szama": "5",
                                    "összes foglalás száma": "668"
                                },
                                {
                                    "SZOBA_ID": "54",
                                    "foglalasok szama": "4",
                                    "összes foglalás száma": "668"
                                },
                                {
                                    "SZOBA_ID": "55",
                                    "foglalasok szama": "3",
                                    "összes foglalás száma": "668"
                                },
                                {
                                    "SZOBA_ID": "56",
                                    "foglalasok szama": "1",
                                    "összes foglalás száma": "668"
                                },
                                {
                                    "SZOBA_ID": "57",
                                    "foglalasok szama": "3",
                                    "összes foglalás száma": "668"
                                },
                                {
                                    "SZOBA_ID": "58",
                                    "foglalasok szama": "8",
                                    "összes foglalás száma": "668"
                                },
                                {
                                    "SZOBA_ID": "59",
                                    "foglalasok szama": "4",
                                    "összes foglalás száma": "668"
                                },
                                {
                                    "SZOBA_ID": "60",
                                    "foglalasok szama": "1",
                                    "összes foglalás száma": "668"
                                },
                                {
                                    "SZOBA_ID": "61",
                                    "foglalasok szama": "4",
                                    "összes foglalás száma": "668"
                                },
                                {
                                    "SZOBA_ID": "62",
                                    "foglalasok szama": "3",
                                    "összes foglalás száma": "668"
                                },
                                {
                                    "SZOBA_ID": "63",
                                    "foglalasok szama": "3",
                                    "összes foglalás száma": "668"
                                },
                                {
                                    "SZOBA_ID": "64",
                                    "foglalasok szama": "5",
                                    "összes foglalás száma": "668"
                                },
                                {
                                    "SZOBA_ID": "66",
                                    "foglalasok szama": "3",
                                    "összes foglalás száma": "668"
                                },
                                {
                                    "SZOBA_ID": "67",
                                    "foglalasok szama": "2",
                                    "összes foglalás száma": "668"
                                },
                                {
                                    "SZOBA_ID": "69",
                                    "foglalasok szama": "2",
                                    "összes foglalás száma": "668"
                                },
                                {
                                    "SZOBA_ID": "70",
                                    "foglalasok szama": "8",
                                    "összes foglalás száma": "668"
                                },
                                {
                                    "SZOBA_ID": "71",
                                    "foglalasok szama": "2",
                                    "összes foglalás száma": "668"
                                },
                                {
                                    "SZOBA_ID": "72",
                                    "foglalasok szama": "2",
                                    "összes foglalás száma": "668"
                                },
                                {
                                    "SZOBA_ID": "73",
                                    "foglalasok szama": "4",
                                    "összes foglalás száma": "668"
                                },
                                {
                                    "SZOBA_ID": "74",
                                    "foglalasok szama": "8",
                                    "összes foglalás száma": "668"
                                },
                                {
                                    "SZOBA_ID": "75",
                                    "foglalasok szama": "2",
                                    "összes foglalás száma": "668"
                                },
                                {
                                    "SZOBA_ID": "76",
                                    "foglalasok szama": "2",
                                    "összes foglalás száma": "668"
                                },
                                {
                                    "SZOBA_ID": "77",
                                    "foglalasok szama": "3",
                                    "összes foglalás száma": "668"
                                },
                                {
                                    "SZOBA_ID": "78",
                                    "foglalasok szama": "3",
                                    "összes foglalás száma": "668"
                                },
                                {
                                    "SZOBA_ID": "79",
                                    "foglalasok szama": "4",
                                    "összes foglalás száma": "668"
                                },
                                {
                                    "SZOBA_ID": "80",
                                    "foglalasok szama": "5",
                                    "összes foglalás száma": "668"
                                },
                                {
                                    "SZOBA_ID": "81",
                                    "foglalasok szama": "3",
                                    "összes foglalás száma": "668"
                                },
                                {
                                    "SZOBA_ID": "82",
                                    "foglalasok szama": "5",
                                    "összes foglalás száma": "668"
                                },
                                {
                                    "SZOBA_ID": "83",
                                    "foglalasok szama": "5",
                                    "összes foglalás száma": "668"
                                },
                                {
                                    "SZOBA_ID": "84",
                                    "foglalasok szama": "3",
                                    "összes foglalás száma": "668"
                                },
                                {
                                    "SZOBA_ID": "85",
                                    "foglalasok szama": "2",
                                    "összes foglalás száma": "668"
                                },
                                {
                                    "SZOBA_ID": "86",
                                    "foglalasok szama": "4",
                                    "összes foglalás száma": "668"
                                },
                                {
                                    "SZOBA_ID": "87",
                                    "foglalasok szama": "5",
                                    "összes foglalás száma": "668"
                                },
                                {
                                    "SZOBA_ID": "88",
                                    "foglalasok szama": "5",
                                    "összes foglalás száma": "668"
                                },
                                {
                                    "SZOBA_ID": "89",
                                    "foglalasok szama": "8",
                                    "összes foglalás száma": "668"
                                },
                                {
                                    "SZOBA_ID": "90",
                                    "foglalasok szama": "3",
                                    "összes foglalás száma": "668"
                                },
                                {
                                    "SZOBA_ID": "91",
                                    "foglalasok szama": "2",
                                    "összes foglalás száma": "668"
                                },
                                {
                                    "SZOBA_ID": "92",
                                    "foglalasok szama": "5",
                                    "összes foglalás száma": "668"
                                },
                                {
                                    "SZOBA_ID": "93",
                                    "foglalasok szama": "3",
                                    "összes foglalás száma": "668"
                                },
                                {
                                    "SZOBA_ID": "94",
                                    "foglalasok szama": "6",
                                    "összes foglalás száma": "668"
                                },
                                {
                                    "SZOBA_ID": "95",
                                    "foglalasok szama": "3",
                                    "összes foglalás száma": "668"
                                },
                                {
                                    "SZOBA_ID": "96",
                                    "foglalasok szama": "6",
                                    "összes foglalás száma": "668"
                                },
                                {
                                    "SZOBA_ID": "97",
                                    "foglalasok szama": "5",
                                    "összes foglalás száma": "668"
                                },
                                {
                                    "SZOBA_ID": "98",
                                    "foglalasok szama": "4",
                                    "összes foglalás száma": "668"
                                },
                                {
                                    "SZOBA_ID": "99",
                                    "foglalasok szama": "4",
                                    "összes foglalás száma": "668"
                                },
                                {
                                    "SZOBA_ID": "100",
                                    "foglalasok szama": "2",
                                    "összes foglalás száma": "668"
                                },
                                {
                                    "SZOBA_ID": "101",
                                    "foglalasok szama": "1",
                                    "összes foglalás száma": "668"
                                },
                                {
                                    "SZOBA_ID": "102",
                                    "foglalasok szama": "1",
                                    "összes foglalás száma": "668"
                                },
                                {
                                    "SZOBA_ID": "103",
                                    "foglalasok szama": "1",
                                    "összes foglalás száma": "668"
                                },
                                {
                                    "SZOBA_ID": "104",
                                    "foglalasok szama": "3",
                                    "összes foglalás száma": "668"
                                },
                                {
                                    "SZOBA_ID": "106",
                                    "foglalasok szama": "4",
                                    "összes foglalás száma": "668"
                                },
                                {
                                    "SZOBA_ID": "107",
                                    "foglalasok szama": "4",
                                    "összes foglalás száma": "668"
                                },
                                {
                                    "SZOBA_ID": "108",
                                    "foglalasok szama": "1",
                                    "összes foglalás száma": "668"
                                },
                                {
                                    "SZOBA_ID": "109",
                                    "foglalasok szama": "2",
                                    "összes foglalás száma": "668"
                                },
                                {
                                    "SZOBA_ID": "110",
                                    "foglalasok szama": "5",
                                    "összes foglalás száma": "668"
                                },
                                {
                                    "SZOBA_ID": "111",
                                    "foglalasok szama": "1",
                                    "összes foglalás száma": "668"
                                },
                                {
                                    "SZOBA_ID": "112",
                                    "foglalasok szama": "4",
                                    "összes foglalás száma": "668"
                                },
                                {
                                    "SZOBA_ID": "113",
                                    "foglalasok szama": "2",
                                    "összes foglalás száma": "668"
                                },
                                {
                                    "SZOBA_ID": "114",
                                    "foglalasok szama": "1",
                                    "összes foglalás száma": "668"
                                },
                                {
                                    "SZOBA_ID": "115",
                                    "foglalasok szama": "5",
                                    "összes foglalás száma": "668"
                                },
                                {
                                    "SZOBA_ID": "117",
                                    "foglalasok szama": "4",
                                    "összes foglalás száma": "668"
                                },
                                {
                                    "SZOBA_ID": "118",
                                    "foglalasok szama": "2",
                                    "összes foglalás száma": "668"
                                },
                                {
                                    "SZOBA_ID": "119",
                                    "foglalasok szama": "4",
                                    "összes foglalás száma": "668"
                                },
                                {
                                    "SZOBA_ID": "120",
                                    "foglalasok szama": "2",
                                    "összes foglalás száma": "668"
                                },
                                {
                                    "SZOBA_ID": "121",
                                    "foglalasok szama": "5",
                                    "összes foglalás száma": "668"
                                },
                                {
                                    "SZOBA_ID": "122",
                                    "foglalasok szama": "3",
                                    "összes foglalás száma": "668"
                                },
                                {
                                    "SZOBA_ID": "123",
                                    "foglalasok szama": "5",
                                    "összes foglalás száma": "668"
                                },
                                {
                                    "SZOBA_ID": "124",
                                    "foglalasok szama": "4",
                                    "összes foglalás száma": "668"
                                },
                                {
                                    "SZOBA_ID": "126",
                                    "foglalasok szama": "4",
                                    "összes foglalás száma": "668"
                                },
                                {
                                    "SZOBA_ID": "127",
                                    "foglalasok szama": "5",
                                    "összes foglalás száma": "668"
                                },
                                {
                                    "SZOBA_ID": "129",
                                    "foglalasok szama": "3",
                                    "összes foglalás száma": "668"
                                },
                                {
                                    "SZOBA_ID": "130",
                                    "foglalasok szama": "5",
                                    "összes foglalás száma": "668"
                                },
                                {
                                    "SZOBA_ID": "131",
                                    "foglalasok szama": "4",
                                    "összes foglalás száma": "668"
                                },
                                {
                                    "SZOBA_ID": "132",
                                    "foglalasok szama": "4",
                                    "összes foglalás száma": "668"
                                },
                                {
                                    "SZOBA_ID": "133",
                                    "foglalasok szama": "4",
                                    "összes foglalás száma": "668"
                                },
                                {
                                    "SZOBA_ID": "134",
                                    "foglalasok szama": "4",
                                    "összes foglalás száma": "668"
                                },
                                {
                                    "SZOBA_ID": "135",
                                    "foglalasok szama": "3",
                                    "összes foglalás száma": "668"
                                },
                                {
                                    "SZOBA_ID": "136",
                                    "foglalasok szama": "2",
                                    "összes foglalás száma": "668"
                                },
                                {
                                    "SZOBA_ID": "137",
                                    "foglalasok szama": "2",
                                    "összes foglalás száma": "668"
                                },
                                {
                                    "SZOBA_ID": "138",
                                    "foglalasok szama": "5",
                                    "összes foglalás száma": "668"
                                },
                                {
                                    "SZOBA_ID": "139",
                                    "foglalasok szama": "6",
                                    "összes foglalás száma": "668"
                                },
                                {
                                    "SZOBA_ID": "140",
                                    "foglalasok szama": "5",
                                    "összes foglalás száma": "668"
                                },
                                {
                                    "SZOBA_ID": "141",
                                    "foglalasok szama": "4",
                                    "összes foglalás száma": "668"
                                },
                                {
                                    "SZOBA_ID": "142",
                                    "foglalasok szama": "1",
                                    "összes foglalás száma": "668"
                                },
                                {
                                    "SZOBA_ID": "143",
                                    "foglalasok szama": "5",
                                    "összes foglalás száma": "668"
                                },
                                {
                                    "SZOBA_ID": "144",
                                    "foglalasok szama": "2",
                                    "összes foglalás száma": "668"
                                },
                                {
                                    "SZOBA_ID": "145",
                                    "foglalasok szama": "2",
                                    "összes foglalás száma": "668"
                                },
                                {
                                    "SZOBA_ID": "146",
                                    "foglalasok szama": "3",
                                    "összes foglalás száma": "668"
                                },
                                {
                                    "SZOBA_ID": "147",
                                    "foglalasok szama": "1",
                                    "összes foglalás száma": "668"
                                },
                                {
                                    "SZOBA_ID": "148",
                                    "foglalasok szama": "5",
                                    "összes foglalás száma": "668"
                                },
                                {
                                    "SZOBA_ID": "149",
                                    "foglalasok szama": "5",
                                    "összes foglalás száma": "668"
                                },
                                {
                                    "SZOBA_ID": "150",
                                    "foglalasok szama": "6",
                                    "összes foglalás száma": "668"
                                },
                                {
                                    "SZOBA_ID": "151",
                                    "foglalasok szama": "2",
                                    "összes foglalás száma": "668"
                                },
                                {
                                    "SZOBA_ID": "152",
                                    "foglalasok szama": "3",
                                    "összes foglalás száma": "668"
                                },
                                {
                                    "SZOBA_ID": "153",
                                    "foglalasok szama": "4",
                                    "összes foglalás száma": "668"
                                },
                                {
                                    "SZOBA_ID": "154",
                                    "foglalasok szama": "3",
                                    "összes foglalás száma": "668"
                                },
                                {
                                    "SZOBA_ID": "155",
                                    "foglalasok szama": "3",
                                    "összes foglalás száma": "668"
                                },
                                {
                                    "SZOBA_ID": "156",
                                    "foglalasok szama": "2",
                                    "összes foglalás száma": "668"
                                },
                                {
                                    "SZOBA_ID": "157",
                                    "foglalasok szama": "2",
                                    "összes foglalás száma": "668"
                                },
                                {
                                    "SZOBA_ID": "158",
                                    "foglalasok szama": "3",
                                    "összes foglalás száma": "668"
                                },
                                {
                                    "SZOBA_ID": "160",
                                    "foglalasok szama": "2",
                                    "összes foglalás száma": "668"
                                },
                                {
                                    "SZOBA_ID": "161",
                                    "foglalasok szama": "3",
                                    "összes foglalás száma": "668"
                                },
                                {
                                    "SZOBA_ID": "162",
                                    "foglalasok szama": "2",
                                    "összes foglalás száma": "668"
                                },
                                {
                                    "SZOBA_ID": "163",
                                    "foglalasok szama": "5",
                                    "összes foglalás száma": "668"
                                },
                                {
                                    "SZOBA_ID": "164",
                                    "foglalasok szama": "4",
                                    "összes foglalás száma": "668"
                                },
                                {
                                    "SZOBA_ID": "165",
                                    "foglalasok szama": "5",
                                    "összes foglalás száma": "668"
                                },
                                {
                                    "SZOBA_ID": "166",
                                    "foglalasok szama": "3",
                                    "összes foglalás száma": "668"
                                },
                                {
                                    "SZOBA_ID": "167",
                                    "foglalasok szama": "2",
                                    "összes foglalás száma": "668"
                                },
                                {
                                    "SZOBA_ID": "168",
                                    "foglalasok szama": "1",
                                    "összes foglalás száma": "668"
                                },
                                {
                                    "SZOBA_ID": "169",
                                    "foglalasok szama": "3",
                                    "összes foglalás száma": "668"
                                },
                                {
                                    "SZOBA_ID": "170",
                                    "foglalasok szama": "3",
                                    "összes foglalás száma": "668"
                                },
                                {
                                    "SZOBA_ID": "171",
                                    "foglalasok szama": "5",
                                    "összes foglalás száma": "668"
                                },
                                {
                                    "SZOBA_ID": "172",
                                    "foglalasok szama": "6",
                                    "összes foglalás száma": "668"
                                },
                                {
                                    "SZOBA_ID": "173",
                                    "foglalasok szama": "3",
                                    "összes foglalás száma": "668"
                                },
                                {
                                    "SZOBA_ID": "174",
                                    "foglalasok szama": "4",
                                    "összes foglalás száma": "668"
                                },
                                {
                                    "SZOBA_ID": "175",
                                    "foglalasok szama": "3",
                                    "összes foglalás száma": "668"
                                },
                                {
                                    "SZOBA_ID": "176",
                                    "foglalasok szama": "2",
                                    "összes foglalás száma": "668"
                                },
                                {
                                    "SZOBA_ID": "177",
                                    "foglalasok szama": "1",
                                    "összes foglalás száma": "668"
                                },
                                {
                                    "SZOBA_ID": "178",
                                    "foglalasok szama": "1",
                                    "összes foglalás száma": "668"
                                },
                                {
                                    "SZOBA_ID": "179",
                                    "foglalasok szama": "2",
                                    "összes foglalás száma": "668"
                                },
                                {
                                    "SZOBA_ID": "180",
                                    "foglalasok szama": "1",
                                    "összes foglalás száma": "668"
                                },
                                {
                                    "SZOBA_ID": "181",
                                    "foglalasok szama": "5",
                                    "összes foglalás száma": "668"
                                },
                                {
                                    "SZOBA_ID": "182",
                                    "foglalasok szama": "11",
                                    "összes foglalás száma": "668"
                                },
                                {
                                    "SZOBA_ID": "183",
                                    "foglalasok szama": "3",
                                    "összes foglalás száma": "668"
                                },
                                {
                                    "SZOBA_ID": "184",
                                    "foglalasok szama": "4",
                                    "összes foglalás száma": "668"
                                },
                                {
                                    "SZOBA_ID": "185",
                                    "foglalasok szama": "10",
                                    "összes foglalás száma": "668"
                                },
                                {
                                    "SZOBA_ID": "186",
                                    "foglalasok szama": "1",
                                    "összes foglalás száma": "668"
                                },
                                {
                                    "SZOBA_ID": "187",
                                    "foglalasok szama": "6",
                                    "összes foglalás száma": "668"
                                },
                                {
                                    "SZOBA_ID": "188",
                                    "foglalasok szama": "2",
                                    "összes foglalás száma": "668"
                                },
                                {
                                    "SZOBA_ID": "189",
                                    "foglalasok szama": "1",
                                    "összes foglalás száma": "668"
                                },
                                {
                                    "SZOBA_ID": "190",
                                    "foglalasok szama": "5",
                                    "összes foglalás száma": "668"
                                },
                                {
                                    "SZOBA_ID": "191",
                                    "foglalasok szama": "3",
                                    "összes foglalás száma": "668"
                                },
                                {
                                    "SZOBA_ID": "192",
                                    "foglalasok szama": "1",
                                    "összes foglalás száma": "668"
                                },
                                {
                                    "SZOBA_ID": "193",
                                    "foglalasok szama": "2",
                                    "összes foglalás száma": "668"
                                },
                                {
                                    "SZOBA_ID": "194",
                                    "foglalasok szama": "1",
                                    "összes foglalás száma": "668"
                                },
                                {
                                    "SZOBA_ID": "195",
                                    "foglalasok szama": "5",
                                    "összes foglalás száma": "668"
                                },
                                {
                                    "SZOBA_ID": "196",
                                    "foglalasok szama": "2",
                                    "összes foglalás száma": "668"
                                },
                                {
                                    "SZOBA_ID": "197",
                                    "foglalasok szama": "6",
                                    "összes foglalás száma": "668"
                                },
                                {
                                    "SZOBA_ID": "198",
                                    "foglalasok szama": "7",
                                    "összes foglalás száma": "668"
                                }
                            ]
                        },
                        "text/html": [
                            "<table>",
                            "<tr><th>SZOBA_ID</th><th>foglalasok szama</th><th>összes foglalás száma</th></tr>",
                            "<tr><td>1</td><td>7</td><td>668</td></tr>",
                            "<tr><td>2</td><td>2</td><td>668</td></tr>",
                            "<tr><td>3</td><td>3</td><td>668</td></tr>",
                            "<tr><td>4</td><td>5</td><td>668</td></tr>",
                            "<tr><td>5</td><td>2</td><td>668</td></tr>",
                            "<tr><td>6</td><td>5</td><td>668</td></tr>",
                            "<tr><td>7</td><td>6</td><td>668</td></tr>",
                            "<tr><td>8</td><td>5</td><td>668</td></tr>",
                            "<tr><td>9</td><td>4</td><td>668</td></tr>",
                            "<tr><td>10</td><td>4</td><td>668</td></tr>",
                            "<tr><td>11</td><td>4</td><td>668</td></tr>",
                            "<tr><td>12</td><td>7</td><td>668</td></tr>",
                            "<tr><td>13</td><td>4</td><td>668</td></tr>",
                            "<tr><td>14</td><td>3</td><td>668</td></tr>",
                            "<tr><td>15</td><td>4</td><td>668</td></tr>",
                            "<tr><td>16</td><td>1</td><td>668</td></tr>",
                            "<tr><td>17</td><td>2</td><td>668</td></tr>",
                            "<tr><td>18</td><td>3</td><td>668</td></tr>",
                            "<tr><td>19</td><td>4</td><td>668</td></tr>",
                            "<tr><td>20</td><td>5</td><td>668</td></tr>",
                            "<tr><td>21</td><td>1</td><td>668</td></tr>",
                            "<tr><td>22</td><td>2</td><td>668</td></tr>",
                            "<tr><td>23</td><td>3</td><td>668</td></tr>",
                            "<tr><td>24</td><td>3</td><td>668</td></tr>",
                            "<tr><td>25</td><td>1</td><td>668</td></tr>",
                            "<tr><td>27</td><td>5</td><td>668</td></tr>",
                            "<tr><td>28</td><td>5</td><td>668</td></tr>",
                            "<tr><td>29</td><td>3</td><td>668</td></tr>",
                            "<tr><td>30</td><td>2</td><td>668</td></tr>",
                            "<tr><td>31</td><td>1</td><td>668</td></tr>",
                            "<tr><td>32</td><td>1</td><td>668</td></tr>",
                            "<tr><td>33</td><td>3</td><td>668</td></tr>",
                            "<tr><td>34</td><td>3</td><td>668</td></tr>",
                            "<tr><td>35</td><td>6</td><td>668</td></tr>",
                            "<tr><td>36</td><td>4</td><td>668</td></tr>",
                            "<tr><td>37</td><td>2</td><td>668</td></tr>",
                            "<tr><td>38</td><td>5</td><td>668</td></tr>",
                            "<tr><td>39</td><td>4</td><td>668</td></tr>",
                            "<tr><td>40</td><td>3</td><td>668</td></tr>",
                            "<tr><td>41</td><td>1</td><td>668</td></tr>",
                            "<tr><td>42</td><td>5</td><td>668</td></tr>",
                            "<tr><td>43</td><td>4</td><td>668</td></tr>",
                            "<tr><td>44</td><td>6</td><td>668</td></tr>",
                            "<tr><td>45</td><td>4</td><td>668</td></tr>",
                            "<tr><td>46</td><td>3</td><td>668</td></tr>",
                            "<tr><td>47</td><td>2</td><td>668</td></tr>",
                            "<tr><td>48</td><td>6</td><td>668</td></tr>",
                            "<tr><td>49</td><td>5</td><td>668</td></tr>",
                            "<tr><td>50</td><td>3</td><td>668</td></tr>",
                            "<tr><td>51</td><td>3</td><td>668</td></tr>",
                            "<tr><td>52</td><td>5</td><td>668</td></tr>",
                            "<tr><td>54</td><td>4</td><td>668</td></tr>",
                            "<tr><td>55</td><td>3</td><td>668</td></tr>",
                            "<tr><td>56</td><td>1</td><td>668</td></tr>",
                            "<tr><td>57</td><td>3</td><td>668</td></tr>",
                            "<tr><td>58</td><td>8</td><td>668</td></tr>",
                            "<tr><td>59</td><td>4</td><td>668</td></tr>",
                            "<tr><td>60</td><td>1</td><td>668</td></tr>",
                            "<tr><td>61</td><td>4</td><td>668</td></tr>",
                            "<tr><td>62</td><td>3</td><td>668</td></tr>",
                            "<tr><td>63</td><td>3</td><td>668</td></tr>",
                            "<tr><td>64</td><td>5</td><td>668</td></tr>",
                            "<tr><td>66</td><td>3</td><td>668</td></tr>",
                            "<tr><td>67</td><td>2</td><td>668</td></tr>",
                            "<tr><td>69</td><td>2</td><td>668</td></tr>",
                            "<tr><td>70</td><td>8</td><td>668</td></tr>",
                            "<tr><td>71</td><td>2</td><td>668</td></tr>",
                            "<tr><td>72</td><td>2</td><td>668</td></tr>",
                            "<tr><td>73</td><td>4</td><td>668</td></tr>",
                            "<tr><td>74</td><td>8</td><td>668</td></tr>",
                            "<tr><td>75</td><td>2</td><td>668</td></tr>",
                            "<tr><td>76</td><td>2</td><td>668</td></tr>",
                            "<tr><td>77</td><td>3</td><td>668</td></tr>",
                            "<tr><td>78</td><td>3</td><td>668</td></tr>",
                            "<tr><td>79</td><td>4</td><td>668</td></tr>",
                            "<tr><td>80</td><td>5</td><td>668</td></tr>",
                            "<tr><td>81</td><td>3</td><td>668</td></tr>",
                            "<tr><td>82</td><td>5</td><td>668</td></tr>",
                            "<tr><td>83</td><td>5</td><td>668</td></tr>",
                            "<tr><td>84</td><td>3</td><td>668</td></tr>",
                            "<tr><td>85</td><td>2</td><td>668</td></tr>",
                            "<tr><td>86</td><td>4</td><td>668</td></tr>",
                            "<tr><td>87</td><td>5</td><td>668</td></tr>",
                            "<tr><td>88</td><td>5</td><td>668</td></tr>",
                            "<tr><td>89</td><td>8</td><td>668</td></tr>",
                            "<tr><td>90</td><td>3</td><td>668</td></tr>",
                            "<tr><td>91</td><td>2</td><td>668</td></tr>",
                            "<tr><td>92</td><td>5</td><td>668</td></tr>",
                            "<tr><td>93</td><td>3</td><td>668</td></tr>",
                            "<tr><td>94</td><td>6</td><td>668</td></tr>",
                            "<tr><td>95</td><td>3</td><td>668</td></tr>",
                            "<tr><td>96</td><td>6</td><td>668</td></tr>",
                            "<tr><td>97</td><td>5</td><td>668</td></tr>",
                            "<tr><td>98</td><td>4</td><td>668</td></tr>",
                            "<tr><td>99</td><td>4</td><td>668</td></tr>",
                            "<tr><td>100</td><td>2</td><td>668</td></tr>",
                            "<tr><td>101</td><td>1</td><td>668</td></tr>",
                            "<tr><td>102</td><td>1</td><td>668</td></tr>",
                            "<tr><td>103</td><td>1</td><td>668</td></tr>",
                            "<tr><td>104</td><td>3</td><td>668</td></tr>",
                            "<tr><td>106</td><td>4</td><td>668</td></tr>",
                            "<tr><td>107</td><td>4</td><td>668</td></tr>",
                            "<tr><td>108</td><td>1</td><td>668</td></tr>",
                            "<tr><td>109</td><td>2</td><td>668</td></tr>",
                            "<tr><td>110</td><td>5</td><td>668</td></tr>",
                            "<tr><td>111</td><td>1</td><td>668</td></tr>",
                            "<tr><td>112</td><td>4</td><td>668</td></tr>",
                            "<tr><td>113</td><td>2</td><td>668</td></tr>",
                            "<tr><td>114</td><td>1</td><td>668</td></tr>",
                            "<tr><td>115</td><td>5</td><td>668</td></tr>",
                            "<tr><td>117</td><td>4</td><td>668</td></tr>",
                            "<tr><td>118</td><td>2</td><td>668</td></tr>",
                            "<tr><td>119</td><td>4</td><td>668</td></tr>",
                            "<tr><td>120</td><td>2</td><td>668</td></tr>",
                            "<tr><td>121</td><td>5</td><td>668</td></tr>",
                            "<tr><td>122</td><td>3</td><td>668</td></tr>",
                            "<tr><td>123</td><td>5</td><td>668</td></tr>",
                            "<tr><td>124</td><td>4</td><td>668</td></tr>",
                            "<tr><td>126</td><td>4</td><td>668</td></tr>",
                            "<tr><td>127</td><td>5</td><td>668</td></tr>",
                            "<tr><td>129</td><td>3</td><td>668</td></tr>",
                            "<tr><td>130</td><td>5</td><td>668</td></tr>",
                            "<tr><td>131</td><td>4</td><td>668</td></tr>",
                            "<tr><td>132</td><td>4</td><td>668</td></tr>",
                            "<tr><td>133</td><td>4</td><td>668</td></tr>",
                            "<tr><td>134</td><td>4</td><td>668</td></tr>",
                            "<tr><td>135</td><td>3</td><td>668</td></tr>",
                            "<tr><td>136</td><td>2</td><td>668</td></tr>",
                            "<tr><td>137</td><td>2</td><td>668</td></tr>",
                            "<tr><td>138</td><td>5</td><td>668</td></tr>",
                            "<tr><td>139</td><td>6</td><td>668</td></tr>",
                            "<tr><td>140</td><td>5</td><td>668</td></tr>",
                            "<tr><td>141</td><td>4</td><td>668</td></tr>",
                            "<tr><td>142</td><td>1</td><td>668</td></tr>",
                            "<tr><td>143</td><td>5</td><td>668</td></tr>",
                            "<tr><td>144</td><td>2</td><td>668</td></tr>",
                            "<tr><td>145</td><td>2</td><td>668</td></tr>",
                            "<tr><td>146</td><td>3</td><td>668</td></tr>",
                            "<tr><td>147</td><td>1</td><td>668</td></tr>",
                            "<tr><td>148</td><td>5</td><td>668</td></tr>",
                            "<tr><td>149</td><td>5</td><td>668</td></tr>",
                            "<tr><td>150</td><td>6</td><td>668</td></tr>",
                            "<tr><td>151</td><td>2</td><td>668</td></tr>",
                            "<tr><td>152</td><td>3</td><td>668</td></tr>",
                            "<tr><td>153</td><td>4</td><td>668</td></tr>",
                            "<tr><td>154</td><td>3</td><td>668</td></tr>",
                            "<tr><td>155</td><td>3</td><td>668</td></tr>",
                            "<tr><td>156</td><td>2</td><td>668</td></tr>",
                            "<tr><td>157</td><td>2</td><td>668</td></tr>",
                            "<tr><td>158</td><td>3</td><td>668</td></tr>",
                            "<tr><td>160</td><td>2</td><td>668</td></tr>",
                            "<tr><td>161</td><td>3</td><td>668</td></tr>",
                            "<tr><td>162</td><td>2</td><td>668</td></tr>",
                            "<tr><td>163</td><td>5</td><td>668</td></tr>",
                            "<tr><td>164</td><td>4</td><td>668</td></tr>",
                            "<tr><td>165</td><td>5</td><td>668</td></tr>",
                            "<tr><td>166</td><td>3</td><td>668</td></tr>",
                            "<tr><td>167</td><td>2</td><td>668</td></tr>",
                            "<tr><td>168</td><td>1</td><td>668</td></tr>",
                            "<tr><td>169</td><td>3</td><td>668</td></tr>",
                            "<tr><td>170</td><td>3</td><td>668</td></tr>",
                            "<tr><td>171</td><td>5</td><td>668</td></tr>",
                            "<tr><td>172</td><td>6</td><td>668</td></tr>",
                            "<tr><td>173</td><td>3</td><td>668</td></tr>",
                            "<tr><td>174</td><td>4</td><td>668</td></tr>",
                            "<tr><td>175</td><td>3</td><td>668</td></tr>",
                            "<tr><td>176</td><td>2</td><td>668</td></tr>",
                            "<tr><td>177</td><td>1</td><td>668</td></tr>",
                            "<tr><td>178</td><td>1</td><td>668</td></tr>",
                            "<tr><td>179</td><td>2</td><td>668</td></tr>",
                            "<tr><td>180</td><td>1</td><td>668</td></tr>",
                            "<tr><td>181</td><td>5</td><td>668</td></tr>",
                            "<tr><td>182</td><td>11</td><td>668</td></tr>",
                            "<tr><td>183</td><td>3</td><td>668</td></tr>",
                            "<tr><td>184</td><td>4</td><td>668</td></tr>",
                            "<tr><td>185</td><td>10</td><td>668</td></tr>",
                            "<tr><td>186</td><td>1</td><td>668</td></tr>",
                            "<tr><td>187</td><td>6</td><td>668</td></tr>",
                            "<tr><td>188</td><td>2</td><td>668</td></tr>",
                            "<tr><td>189</td><td>1</td><td>668</td></tr>",
                            "<tr><td>190</td><td>5</td><td>668</td></tr>",
                            "<tr><td>191</td><td>3</td><td>668</td></tr>",
                            "<tr><td>192</td><td>1</td><td>668</td></tr>",
                            "<tr><td>193</td><td>2</td><td>668</td></tr>",
                            "<tr><td>194</td><td>1</td><td>668</td></tr>",
                            "<tr><td>195</td><td>5</td><td>668</td></tr>",
                            "<tr><td>196</td><td>2</td><td>668</td></tr>",
                            "<tr><td>197</td><td>6</td><td>668</td></tr>",
                            "<tr><td>198</td><td>7</td><td>668</td></tr>",
                            "</table>"
                        ]
                    }
                }
            ],
            "execution_count": 21
        },
        {
            "cell_type": "code",
            "source": [
                "SELECT top 1 v.*\r\n",
                "from Foglalas f JOIN Vendeg v On f.UGYFEL_FK=v.USERNEV\r\n",
                "WHERE v.szul_dat<>\r\n",
                "(select SZUL_DAT\r\n",
                "from Vendeg\r\n",
                "WHERE SZUL_DAT = \r\n",
                "(select MAX(SZUL_DAT)\r\n",
                "from vendeg\r\n",
                ")\r\n",
                ")\r\n",
                "order BY v.SZUL_DAT DESC"
            ],
            "metadata": {
                "azdata_cell_guid": "1114f808-9f67-4ba0-b7ea-0a8bd2b63f11",
                "language": "sql"
            },
            "outputs": [
                {
                    "output_type": "display_data",
                    "data": {
                        "text/html": "(1 row affected)"
                    },
                    "metadata": {}
                },
                {
                    "output_type": "display_data",
                    "data": {
                        "text/html": "Total execution time: 00:00:00.012"
                    },
                    "metadata": {}
                },
                {
                    "output_type": "execute_result",
                    "metadata": {},
                    "execution_count": 16,
                    "data": {
                        "application/vnd.dataresource+json": {
                            "schema": {
                                "fields": [
                                    {
                                        "name": "USERNEV"
                                    },
                                    {
                                        "name": "NEV"
                                    },
                                    {
                                        "name": "EMAIL"
                                    },
                                    {
                                        "name": "SZAML_CIM"
                                    },
                                    {
                                        "name": "SZUL_DAT"
                                    }
                                ]
                            },
                            "data": [
                                {
                                    "USERNEV": "istvan1",
                                    "NEV": "Vizi István",
                                    "EMAIL": "istván.vizi@mail.hu",
                                    "SZAML_CIM": "7086 Ozora Rákóczi utca 1.",
                                    "SZUL_DAT": "1997-12-01"
                                }
                            ]
                        },
                        "text/html": [
                            "<table>",
                            "<tr><th>USERNEV</th><th>NEV</th><th>EMAIL</th><th>SZAML_CIM</th><th>SZUL_DAT</th></tr>",
                            "<tr><td>istvan1</td><td>Vizi István</td><td>istván.vizi@mail.hu</td><td>7086 Ozora Rákóczi utca 1.</td><td>1997-12-01</td></tr>",
                            "</table>"
                        ]
                    }
                }
            ],
            "execution_count": 16
        }
    ]
}